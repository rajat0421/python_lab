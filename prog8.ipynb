{
 "cells": [
  {
   "cell_type": "code",
   "execution_count": null,
   "id": "fdd0c89e",
   "metadata": {
    "is_executing": true
   },
   "outputs": [],
   "source": [
    "import pandas as pd\n",
    "\n",
    "msg = pd.read_csv('prog8.csv', names=['message', 'label'])\n",
    "\n",
    "print('The dimensions of the dataset', msg.shape)\n",
    "\n",
    "msg['labelnum'] = msg.label.map({'pos': 1, 'neg': 0})\n",
    "X = msg.message\n",
    "y = msg.labelnum\n",
    "print(X)\n",
    "print(y)\n",
    "\n",
    "# splitting the dataset into train and test data\n",
    "from sklearn.model_selection import train_test_split\n",
    "xtrain, xtest, ytrain, ytest = train_test_split(X, y)\n",
    "\n",
    "print('\\n the total number of Training Data :', ytrain.shape)\n",
    "print('\\n the total number of Test Data :', ytest.shape)\n",
    "\n",
    "# output of the words or Tokens in the text documents\n",
    "from sklearn.feature_extraction.text import CountVectorizer\n",
    "count_vect = CountVectorizer()\n",
    "xtrain_dtm = count_vect.fit_transform(xtrain)\n",
    "xtest_dtm = count_vect.transform(xtest)\n",
    "print('\\n The words or Tokens in the text documents \\n')\n",
    "print(count_vect.get_feature_names_out())\n",
    "\n",
    "df = pd.DataFrame(xtrain_dtm.toarray(), columns=count_vect.get_feature_names_out())\n",
    "\n",
    "\n",
    "# Training Naive Bayes (NB) classifier on training data.\n",
    "from sklearn.naive_bayes import MultinomialNB\n",
    "clf = MultinomialNB().fit(xtrain_dtm, ytrain)\n",
    "predicted = clf.predict(xtest_dtm)\n",
    "\n",
    "# printing accuracy, Confusion matrix, Precision and Recall\n",
    "from sklearn import metrics\n",
    "print('\\n Accuracy of the classifier is', metrics.accuracy_score(ytest, predicted))\n",
    "\n",
    "print('\\n Confusion matrix')\n",
    "print(metrics.confusion_matrix(ytest, predicted))\n",
    "\n",
    "print('\\n The value of Precision', metrics.precision_score(ytest, predicted))\n",
    "\n",
    "print('\\n The value of Recall', metrics.recall_score(ytest, predicted))\n"
   ]
  }
 ],
 "metadata": {
  "kernelspec": {
   "display_name": "Python 3",
   "language": "python",
   "name": "python3"
  },
  "language_info": {
   "codemirror_mode": {
    "name": "ipython",
    "version": 3
   },
   "file_extension": ".py",
   "mimetype": "text/x-python",
   "name": "python",
   "nbconvert_exporter": "python",
   "pygments_lexer": "ipython3",
   "version": "3.12.2"
  }
 },
 "nbformat": 4,
 "nbformat_minor": 5
}
