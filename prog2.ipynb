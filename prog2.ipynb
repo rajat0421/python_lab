{
 "cells": [
  {
   "cell_type": "code",
   "execution_count": 10,
   "id": "adeefebe",
   "metadata": {
    "scrolled": false
   },
   "outputs": [
    {
     "name": "stdout",
     "output_type": "stream",
     "text": [
      "\n",
      " the given training data set \n",
      "\n",
      "['sunny', 'warm', 'normal', 'strong', 'warm', 'same', 'yes']\n",
      "['sunny', 'warm', 'high', 'strong', 'warm', 'same', 'yes']\n",
      "['rainy', 'cold', 'high', 'strong', 'warm', 'change', 'no']\n",
      "['sunny', 'warm', 'high', 'strong', 'cool', 'change', 'yes']\n",
      "\n",
      " The initial hypothesis is : \n",
      "['0', '0', '0', '0', '0', '0']\n",
      " \n",
      " find s : finding a maximally specific hypothesis \n",
      "\n",
      "\n",
      " The hypothesis for the training instance no : 0 is the hyp is: \n",
      " ['sunny', 'warm', 'normal', 'strong', 'warm', 'same']\n",
      "\n",
      " The hypothesis for the training instance no : 1 is the hyp is: \n",
      " ['sunny', 'warm', '?', 'strong', 'warm', 'same']\n",
      "\n",
      " The hypothesis for the training instance no : 2 is the hyp is: \n",
      " ['sunny', 'warm', '?', 'strong', 'warm', 'same']\n",
      "\n",
      " The hypothesis for the training instance no : 3 is the hyp is: \n",
      " ['sunny', 'warm', '?', 'strong', '?', '?']\n",
      "\n",
      " The Maximally specific hypothesis for the given training example \n",
      " \n",
      "['sunny', 'warm', '?', 'strong', '?', '?']\n"
     ]
    }
   ],
   "source": [
    "import csv\n",
    "\n",
    "num_attribute = 6\n",
    "a = []\n",
    "\n",
    "print(\"\\n the given training data set \\n\")\n",
    "\n",
    "with open('data2.csv', 'r') as csvfile:\n",
    "    reader = csv.reader(csvfile)\n",
    "    for row in reader: \n",
    "        a.append(row)\n",
    "        print(row)\n",
    "\n",
    "print(\"\\n The initial hypothesis is : \")\n",
    "hypothesis = ['0'] * num_attribute\n",
    "print(hypothesis)\n",
    "\n",
    "for j in range(0, num_attribute):\n",
    "    hypothesis[j] = a[0][j];\n",
    "\n",
    "print(\" \\n find s : finding a maximally specific hypothesis \\n\")\n",
    "\n",
    "for i in range(0, len(a)):\n",
    "    if a[i][num_attribute] == 'yes':\n",
    "        for j in range(0, num_attribute):\n",
    "            if a[i][j] != hypothesis[j]:\n",
    "                hypothesis[j] = '?'  \n",
    "            else:\n",
    "                hypothesis[j] = a[i][j]\n",
    "    print(\"\\n The hypothesis for the training instance no : {0} is the hyp is: \\n\".format(i), hypothesis)\n",
    "\n",
    "print(\"\\n The Maximally specific hypothesis for the given training example \\n \")\n",
    "print(hypothesis)"
   ]
  },
  {
   "cell_type": "code",
   "execution_count": null,
   "id": "2400a12c",
   "metadata": {},
   "outputs": [],
   "source": []
  }
 ],
 "metadata": {
  "kernelspec": {
   "display_name": "Python 3",
   "language": "python",
   "name": "python3"
  },
  "language_info": {
   "codemirror_mode": {
    "name": "ipython",
    "version": 3
   },
   "file_extension": ".py",
   "mimetype": "text/x-python",
   "name": "python",
   "nbconvert_exporter": "python",
   "pygments_lexer": "ipython3",
   "version": "3.8.8"
  }
 },
 "nbformat": 4,
 "nbformat_minor": 5
}
